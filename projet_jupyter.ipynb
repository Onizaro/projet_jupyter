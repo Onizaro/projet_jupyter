{
 "cells": [
  {
   "cell_type": "markdown",
   "metadata": {},
   "source": [
    "#Importation des librairies"
   ]
  },
  {
   "cell_type": "code",
   "execution_count": 4,
   "metadata": {},
   "outputs": [],
   "source": [
    "#pipenv install pour installer les dependences\n",
    "import numpy as np \n",
    "import pandas as pd\n",
    "import matplotlib.pyplot as plt\n",
    "import plotly.express as px\n"
   ]
  },
  {
   "cell_type": "markdown",
   "metadata": {},
   "source": [
    "#Importation des données\n",
    "\n",
    "\n",
    "##dataset"
   ]
  },
  {
   "cell_type": "code",
   "execution_count": 5,
   "metadata": {},
   "outputs": [],
   "source": [
    "data = pd.read_csv(\"https://www.data.gouv.fr/fr/datasets/r/78348f03-a11c-4a6b-b8db-2acf4fee81b1\", sep=\"|\", low_memory=False)"
   ]
  },
  {
   "cell_type": "markdown",
   "metadata": {},
   "source": [
    "##Les villes de france"
   ]
  },
  {
   "cell_type": "code",
   "execution_count": 1,
   "metadata": {},
   "outputs": [
    {
     "ename": "NameError",
     "evalue": "name 'pd' is not defined",
     "output_type": "error",
     "traceback": [
      "\u001b[1;31m---------------------------------------------------------------------------\u001b[0m",
      "\u001b[1;31mNameError\u001b[0m                                 Traceback (most recent call last)",
      "\u001b[1;32m~\\AppData\\Local\\Temp\\ipykernel_36808\\3291965168.py\u001b[0m in \u001b[0;36m<module>\u001b[1;34m\u001b[0m\n\u001b[0;32m      1\u001b[0m \u001b[1;31m# https://sql.sh/736-base-donnees-villes-francaises\u001b[0m\u001b[1;33m\u001b[0m\u001b[1;33m\u001b[0m\u001b[0m\n\u001b[1;32m----> 2\u001b[1;33m \u001b[0mvilles_france\u001b[0m \u001b[1;33m=\u001b[0m \u001b[0mpd\u001b[0m\u001b[1;33m.\u001b[0m\u001b[0mread_csv\u001b[0m\u001b[1;33m(\u001b[0m\u001b[1;34m\"villes_france.csv\"\u001b[0m\u001b[1;33m,\u001b[0m \u001b[0msep\u001b[0m\u001b[1;33m=\u001b[0m\u001b[1;34m\",\"\u001b[0m\u001b[1;33m,\u001b[0m\u001b[0mlow_memory\u001b[0m\u001b[1;33m=\u001b[0m\u001b[1;32mFalse\u001b[0m\u001b[1;33m)\u001b[0m\u001b[1;33m\u001b[0m\u001b[1;33m\u001b[0m\u001b[0m\n\u001b[0m",
      "\u001b[1;31mNameError\u001b[0m: name 'pd' is not defined"
     ]
    }
   ],
   "source": [
    "# https://sql.sh/736-base-donnees-villes-francaises\n",
    "villes_france = pd.read_csv(\"villes_france.csv\", sep=\",\",low_memory=False)"
   ]
  },
  {
   "cell_type": "markdown",
   "metadata": {},
   "source": [
    "#Nettoyage des données\n",
    "\n",
    "\n",
    "##Pour le dataset"
   ]
  },
  {
   "cell_type": "code",
   "execution_count": 3,
   "metadata": {},
   "outputs": [
    {
     "ename": "NameError",
     "evalue": "name 'data' is not defined",
     "output_type": "error",
     "traceback": [
      "\u001b[1;31m---------------------------------------------------------------------------\u001b[0m",
      "\u001b[1;31mNameError\u001b[0m                                 Traceback (most recent call last)",
      "\u001b[1;32m~\\AppData\\Local\\Temp\\ipykernel_36808\\3892475773.py\u001b[0m in \u001b[0;36m<module>\u001b[1;34m\u001b[0m\n\u001b[0;32m      1\u001b[0m \u001b[1;31m#pour nettoyer les données on va supprimer les colonnes où il n'y a pas de valeurs\u001b[0m\u001b[1;33m\u001b[0m\u001b[1;33m\u001b[0m\u001b[0m\n\u001b[1;32m----> 2\u001b[1;33m \u001b[0mclean_data\u001b[0m \u001b[1;33m=\u001b[0m \u001b[0mdata\u001b[0m\u001b[1;33m.\u001b[0m\u001b[0mdropna\u001b[0m\u001b[1;33m(\u001b[0m\u001b[0maxis\u001b[0m \u001b[1;33m=\u001b[0m \u001b[1;36m1\u001b[0m\u001b[1;33m,\u001b[0m \u001b[0mhow\u001b[0m \u001b[1;33m=\u001b[0m \u001b[1;34m\"all\"\u001b[0m\u001b[1;33m)\u001b[0m\u001b[1;33m\u001b[0m\u001b[1;33m\u001b[0m\u001b[0m\n\u001b[0m\u001b[0;32m      3\u001b[0m \u001b[1;33m\u001b[0m\u001b[0m\n\u001b[0;32m      4\u001b[0m \u001b[1;31m#on va aussi supprimer les valeurs comme B/T/Q ou Code_coie car elle ne vont pas nous servir\u001b[0m\u001b[1;33m\u001b[0m\u001b[1;33m\u001b[0m\u001b[0m\n\u001b[0;32m      5\u001b[0m \u001b[0mclean_data\u001b[0m \u001b[1;33m=\u001b[0m \u001b[0mdata\u001b[0m\u001b[1;33m.\u001b[0m\u001b[0mdrop\u001b[0m\u001b[1;33m(\u001b[0m\u001b[0mcolumns\u001b[0m\u001b[1;33m=\u001b[0m\u001b[1;33m[\u001b[0m\u001b[1;34m'Identifiant de document'\u001b[0m\u001b[1;33m,\u001b[0m \u001b[1;34m'Reference document'\u001b[0m\u001b[1;33m,\u001b[0m \u001b[1;34m'1 Articles CGI'\u001b[0m\u001b[1;33m,\u001b[0m\u001b[1;34m'2 Articles CGI'\u001b[0m\u001b[1;33m,\u001b[0m \u001b[1;34m'3 Articles CGI'\u001b[0m\u001b[1;33m,\u001b[0m \u001b[1;34m'4 Articles CGI'\u001b[0m\u001b[1;33m,\u001b[0m \u001b[1;34m'5 Articles CGI'\u001b[0m\u001b[1;33m,\u001b[0m\u001b[1;34m\"B/T/Q\"\u001b[0m\u001b[1;33m,\u001b[0m\u001b[1;34m\"No disposition\"\u001b[0m\u001b[1;33m,\u001b[0m \u001b[1;34m\"Code voie\"\u001b[0m\u001b[1;33m,\u001b[0m \u001b[1;34m\"Prefixe de section\"\u001b[0m\u001b[1;33m,\u001b[0m \u001b[1;34m\"Section\"\u001b[0m\u001b[1;33m,\u001b[0m \u001b[1;34m\"No plan\"\u001b[0m\u001b[1;33m,\u001b[0m \u001b[1;34m\"No Volume\"\u001b[0m\u001b[1;33m,\u001b[0m \u001b[1;34m\"Code type local\"\u001b[0m\u001b[1;33m]\u001b[0m\u001b[1;33m)\u001b[0m\u001b[1;33m\u001b[0m\u001b[1;33m\u001b[0m\u001b[0m\n",
      "\u001b[1;31mNameError\u001b[0m: name 'data' is not defined"
     ]
    }
   ],
   "source": [
    "#pour nettoyer les données on va supprimer les colonnes où il n'y a pas de valeurs\n",
    "clean_data = data.dropna(axis = 1, how = \"all\")\n",
    "\n",
    "#on va aussi supprimer les valeurs comme B/T/Q ou Code_coie car elle ne vont pas nous servir\n",
    "clean_data = data.drop(columns=['Identifiant de document', 'Reference document', '1 Articles CGI','2 Articles CGI', '3 Articles CGI', '4 Articles CGI', '5 Articles CGI',\"B/T/Q\",\"No disposition\", \"Code voie\", \"Prefixe de section\", \"Section\", \"No plan\", \"No Volume\", \"Code type local\"])\n",
    "\n",
    "#on doit aussi supprimer les lignes vides si il y en a \n",
    "clean_data = clean_data.dropna(axis = 0, how = \"all\")\n",
    "\n",
    "# le nettoyage des données est terminé \n",
    "#Par la suite, nous allons utiliser le dataframe clean_data\n",
    "\n"
   ]
  },
  {
   "cell_type": "markdown",
   "metadata": {},
   "source": [
    "##Pour les villes"
   ]
  },
  {
   "cell_type": "code",
   "execution_count": null,
   "metadata": {},
   "outputs": [
    {
     "ename": "",
     "evalue": "",
     "output_type": "error",
     "traceback": [
      "\u001b[1;31mRunning cells with 'c:\\msys64\\mingw64\\bin\\python.exe' requires the ipykernel package.\n",
      "\u001b[1;31mRun the following command to install 'ipykernel' into the Python environment. \n",
      "\u001b[1;31mCommand: 'c:/msys64/mingw64/bin/python.exe -m pip install ipykernel -U --user --force-reinstall'"
     ]
    }
   ],
   "source": [
    "positions = villes_france.drop(columns=[\"Slug\",\"Nom simple\",\"Nom reel\",\"Nom soundex\",\"Nom metaphone\",\"Canton\",\"Population 2010\",\"Population 1999\",\"Densite 2010\",\"Surface\",\"Superficie\"])"
   ]
  },
  {
   "cell_type": "markdown",
   "metadata": {},
   "source": [
    "##Ventes totales en 2023"
   ]
  },
  {
   "cell_type": "code",
   "execution_count": null,
   "metadata": {},
   "outputs": [
    {
     "ename": "",
     "evalue": "",
     "output_type": "error",
     "traceback": [
      "\u001b[1;31mRunning cells with 'c:\\msys64\\mingw64\\bin\\python.exe' requires the ipykernel package.\n",
      "\u001b[1;31mRun the following command to install 'ipykernel' into the Python environment. \n",
      "\u001b[1;31mCommand: 'c:/msys64/mingw64/bin/python.exe -m pip install ipykernel -U --user --force-reinstall'"
     ]
    }
   ],
   "source": [
    "ventes_totales = clean_data\n",
    "ventes_totales[\"Date mutation\"] = pd.to_datetime(ventes_totales[\"Date mutation\"], format='%d/%m/%Y')\n",
    "ventes_par_date = ventes_totales.groupby(\"Date mutation\").size().reset_index(name=\"Nombre de ventes\")\n",
    "fig = px.bar(ventes_par_date, x='Date mutation', y='Nombre de ventes', title='Nombre de ventes par date')\n",
    "fig.show()"
   ]
  },
  {
   "cell_type": "code",
   "execution_count": null,
   "metadata": {},
   "outputs": [
    {
     "ename": "",
     "evalue": "",
     "output_type": "error",
     "traceback": [
      "\u001b[1;31mRunning cells with 'c:\\msys64\\mingw64\\bin\\python.exe' requires the ipykernel package.\n",
      "\u001b[1;31mRun the following command to install 'ipykernel' into the Python environment. \n",
      "\u001b[1;31mCommand: 'c:/msys64/mingw64/bin/python.exe -m pip install ipykernel -U --user --force-reinstall'"
     ]
    }
   ],
   "source": [
    "ventes_totales = clean_data\n",
    "ventes_par_departement = ventes_totales.groupby('Code departement').size().reset_index(name=\"Nombre de ventes\")\n",
    "fig = px.bar(ventes_par_departement, x='Code departement', y='Nombre de ventes', title='Nombre de ventes par departement')\n",
    "fig.show()"
   ]
  },
  {
   "cell_type": "code",
   "execution_count": null,
   "metadata": {},
   "outputs": [
    {
     "ename": "",
     "evalue": "",
     "output_type": "error",
     "traceback": [
      "\u001b[1;31mRunning cells with 'c:\\msys64\\mingw64\\bin\\python.exe' requires the ipykernel package.\n",
      "\u001b[1;31mRun the following command to install 'ipykernel' into the Python environment. \n",
      "\u001b[1;31mCommand: 'c:/msys64/mingw64/bin/python.exe -m pip install ipykernel -U --user --force-reinstall'"
     ]
    }
   ],
   "source": [
    "positions = positions.rename(columns={\"Nom\" : \"Commune\"})\n",
    "ventes_par_commune = ventes_totales.groupby('Commune').size().reset_index(name=\"Nombre de ventes\")\n",
    "#ventes_paris = {\"Nom\" : \"PARIS\" , \"Nombre de ventes\" : }\n",
    "#ventes_par_commune = ventes_par_commune.append()\n",
    "villes_et_positions = pd.merge(positions, ventes_par_commune, on=\"Commune\")\n",
    "fig = px.density_mapbox(villes_et_positions, lat = \"Latitude\", lon = \"Longitude\", z='Nombre de ventes', radius=20, center=dict(lat=46.6035, lon=1.888334), zoom=3, mapbox_style = \"open-street-map\", title = 'Carte de densité des ventes immobilières en France')\n",
    "fig.show()"
   ]
  },
  {
   "cell_type": "code",
   "execution_count": null,
   "metadata": {},
   "outputs": [
    {
     "ename": "",
     "evalue": "",
     "output_type": "error",
     "traceback": [
      "\u001b[1;31mRunning cells with 'c:\\msys64\\mingw64\\bin\\python.exe' requires the ipykernel package.\n",
      "\u001b[1;31mRun the following command to install 'ipykernel' into the Python environment. \n",
      "\u001b[1;31mCommand: 'c:/msys64/mingw64/bin/python.exe -m pip install ipykernel -U --user --force-reinstall'"
     ]
    }
   ],
   "source": [
    "ventes_par_commune[ventes_par_commune[\"Commune\"] == \"LYON 1er\"]"
   ]
  },
  {
   "cell_type": "markdown",
   "metadata": {},
   "source": [
    "Pour mettre le code en HTML : jupyter nbconvert VotreNotebook.ipynb --to html\n"
   ]
  },
  {
   "cell_type": "code",
   "execution_count": null,
   "metadata": {},
   "outputs": [
    {
     "ename": "",
     "evalue": "",
     "output_type": "error",
     "traceback": [
      "\u001b[1;31mRunning cells with 'c:\\msys64\\mingw64\\bin\\python.exe' requires the ipykernel package.\n",
      "\u001b[1;31mRun the following command to install 'ipykernel' into the Python environment. \n",
      "\u001b[1;31mCommand: 'c:/msys64/mingw64/bin/python.exe -m pip install ipykernel -U --user --force-reinstall'"
     ]
    }
   ],
   "source": [
    "clean_data.columns"
   ]
  }
 ],
 "metadata": {
  "kernelspec": {
   "display_name": "Python 3 (ipykernel)",
   "language": "python",
   "name": "python3"
  },
  "language_info": {
   "codemirror_mode": {
    "name": "ipython",
    "version": 3
   },
   "file_extension": ".py",
   "mimetype": "text/x-python",
   "name": "python",
   "nbconvert_exporter": "python",
   "pygments_lexer": "ipython3",
   "version": "3.9.13"
  }
 },
 "nbformat": 4,
 "nbformat_minor": 2
}
